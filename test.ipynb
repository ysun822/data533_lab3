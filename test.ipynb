{
 "cells": [
  {
   "cell_type": "code",
   "execution_count": 1,
   "id": "f4887099-c0e5-4943-a502-a5d6fb53487c",
   "metadata": {},
   "outputs": [],
   "source": [
    "import unittest\n",
    "from description import compare, shape,size\n",
    "from calculation.rectangle_cal import Rectangle\n",
    "from calculation.round_cal import Round"
   ]
  },
  {
   "cell_type": "code",
   "execution_count": null,
   "id": "5944c62c-0559-438a-8712-69fd9fb7e337",
   "metadata": {},
   "outputs": [],
   "source": []
  },
  {
   "cell_type": "code",
   "execution_count": 2,
   "id": "e72a3168-7fa3-45ba-af4f-07f615697630",
   "metadata": {},
   "outputs": [
    {
     "name": "stderr",
     "output_type": "stream",
     "text": [
      "test_big_area (__main__.TestCompare) ... ok\n",
      "test_is_same (__main__.TestCompare) ... ok\n",
      "test_is_same_shape (__main__.TestCompare) ... ok\n",
      "\n",
      "----------------------------------------------------------------------\n",
      "Ran 3 tests in 0.005s\n",
      "\n",
      "OK\n"
     ]
    },
    {
     "data": {
      "text/plain": [
       "<unittest.main.TestProgram at 0x7feed1d59be0>"
      ]
     },
     "execution_count": 2,
     "metadata": {},
     "output_type": "execute_result"
    }
   ],
   "source": [
    "class TestCompare(unittest.TestCase):\n",
    "    def test_is_same_shape(self):\n",
    "        a = Round(5)\n",
    "        b = Round(6)\n",
    "        c = Rectangle(1,1)\n",
    "        self.assertEqual(compare.is_same_shape(a,b),True)\n",
    "        self.assertEqual(compare.is_same_shape(a,c),False)\n",
    "    def test_is_same(self):\n",
    "        d = Round(5)\n",
    "        e = Round(5)\n",
    "        f = Rectangle(2,6)\n",
    "        self.assertEqual(compare.is_same(d,e),True)\n",
    "        self.assertEqual(compare.is_same(d,f),False)\n",
    "    def test_big_area(self):\n",
    "        g = Round(5)\n",
    "        h = Round(6)\n",
    "        i = Rectangle(6,170)\n",
    "        self.assertEqual(compare.big_area(g,h),h)\n",
    "        self.assertEqual(compare.big_area(g,i),i)    \n",
    "unittest.main(argv=[''],verbosity=2,exit=False)"
   ]
  },
  {
   "cell_type": "code",
   "execution_count": 3,
   "id": "9ee4bc7c-5451-404e-ad25-0e79800c6f55",
   "metadata": {},
   "outputs": [
    {
     "name": "stderr",
     "output_type": "stream",
     "text": [
      "test_big_area (__main__.TestCompare) ... ok\n",
      "test_is_same (__main__.TestCompare) ... ok\n",
      "test_is_same_shape (__main__.TestCompare) ... ok\n",
      "test_round_to_rect (__main__.TestShape) ... ok\n",
      "test_round_to_square (__main__.TestShape) ... ok\n",
      "test_square_to_round (__main__.TestShape) ... ok\n",
      "\n",
      "----------------------------------------------------------------------\n",
      "Ran 6 tests in 0.023s\n",
      "\n",
      "OK\n"
     ]
    },
    {
     "data": {
      "text/plain": [
       "<unittest.main.TestProgram at 0x7feed1d5a880>"
      ]
     },
     "execution_count": 3,
     "metadata": {},
     "output_type": "execute_result"
    }
   ],
   "source": [
    "class TestShape(unittest.TestCase):\n",
    "    def test_round_to_square(self):\n",
    "        a = Round(5)\n",
    "        self.assertEqual(type(shape.round_to_square(a)),Rectangle)\n",
    "    def test_square_to_round(self):\n",
    "        b = Rectangle(3,3)\n",
    "        self.assertEqual(type(shape.square_to_round(b)),Round)\n",
    "    def test_round_to_rect(self):\n",
    "        c = Round(5)\n",
    "        self.assertEqual(type(shape.round_to_rect(c,2)),Rectangle)  \n",
    "unittest.main(argv=[''],verbosity=2,exit=False)"
   ]
  },
  {
   "cell_type": "code",
   "execution_count": 4,
   "id": "43ea5c44-778e-4c43-bf95-028ac0f829dd",
   "metadata": {},
   "outputs": [
    {
     "name": "stderr",
     "output_type": "stream",
     "text": [
      "test_big_area (__main__.TestCompare) ... ok\n",
      "test_is_same (__main__.TestCompare) ... ok\n",
      "test_is_same_shape (__main__.TestCompare) ... ok\n",
      "test_round_to_rect (__main__.TestShape) ... ok\n",
      "test_round_to_square (__main__.TestShape) ... ok\n",
      "test_square_to_round (__main__.TestShape) ... ok\n",
      "test_change_area (__main__.TestSize) ... ok\n",
      "test_change_radius_for_round (__main__.TestSize) ... ok\n",
      "test_change_side_for_rec (__main__.TestSize) ... ok\n",
      "\n",
      "----------------------------------------------------------------------\n",
      "Ran 9 tests in 0.071s\n",
      "\n",
      "OK\n"
     ]
    },
    {
     "data": {
      "text/plain": [
       "<unittest.main.TestProgram at 0x7feed1dba0a0>"
      ]
     },
     "execution_count": 4,
     "metadata": {},
     "output_type": "execute_result"
    }
   ],
   "source": [
    "class TestSize(unittest.TestCase):\n",
    "    def test_change_side_for_rec(self):\n",
    "        a = Rectangle(3,5)\n",
    "        self.assertEqual(size.change_side_for_rec(a,\"long\",3).long_len,8)\n",
    "    def test_change_radius_for_round(self):\n",
    "        b = Round(5)\n",
    "        self.assertEqual(size.change_radius_for_round(b,3).radius,8)\n",
    "    def test_change_area(self):\n",
    "        c = Rectangle(2,3)\n",
    "        self.assertEqual(size.change_area(c,4).area,10)  \n",
    "unittest.main(argv=[''],verbosity=2,exit=False)"
   ]
  },
  {
   "cell_type": "code",
   "execution_count": null,
   "id": "57407436-b49c-4caf-a1dc-4b112bab5c33",
   "metadata": {},
   "outputs": [],
   "source": []
  }
 ],
 "metadata": {
  "kernelspec": {
   "display_name": "Python 3",
   "language": "python",
   "name": "python3"
  },
  "language_info": {
   "codemirror_mode": {
    "name": "ipython",
    "version": 3
   },
   "file_extension": ".py",
   "mimetype": "text/x-python",
   "name": "python",
   "nbconvert_exporter": "python",
   "pygments_lexer": "ipython3",
   "version": "3.9.5"
  }
 },
 "nbformat": 4,
 "nbformat_minor": 5
}
