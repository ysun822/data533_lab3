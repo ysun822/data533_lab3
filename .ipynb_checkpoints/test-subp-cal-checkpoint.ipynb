{
 "cells": [
  {
   "cell_type": "code",
   "execution_count": 6,
   "id": "f4887099-c0e5-4943-a502-a5d6fb53487c",
   "metadata": {},
   "outputs": [],
   "source": [
    "import unittest\n",
    "import math\n",
    "from calculation import graphic, rectangle_cal, round_cal\n",
    "from calculation.rectangle_cal import Rectangle\n",
    "from calculation.round_cal import Round"
   ]
  },
  {
   "cell_type": "code",
   "execution_count": 7,
   "id": "5944c62c-0559-438a-8712-69fd9fb7e337",
   "metadata": {},
   "outputs": [
    {
     "name": "stderr",
     "output_type": "stream",
     "text": [
      "test_print_area (__main__.TestGraphic) ... ok\n",
      "test_print_perimeter (__main__.TestGraphic) ... ok\n",
      "test_print_perimeter_and_area (__main__.TestGraphic) ... ok\n",
      "test_cal_area (__main__.TestRectangleCal) ... ok\n",
      "test_cal_area_circumcircle (__main__.TestRectangleCal) ... ok\n",
      "test_cal_perimeter (__main__.TestRectangleCal) ... ok\n",
      "test_cal_area (__main__.TestRoundCal) ... ok\n",
      "test_cal_area_ins_square (__main__.TestRoundCal) ... ok\n",
      "test_cal_perimeter (__main__.TestRoundCal) ... "
     ]
    },
    {
     "name": "stdout",
     "output_type": "stream",
     "text": [
      "The area is: 5\n",
      "The perimeter is: 1\n",
      "The perimeter is: 7\n",
      "The area is: 8\n"
     ]
    },
    {
     "name": "stderr",
     "output_type": "stream",
     "text": [
      "ok\n",
      "\n",
      "----------------------------------------------------------------------\n",
      "Ran 9 tests in 0.004s\n",
      "\n",
      "OK\n"
     ]
    },
    {
     "data": {
      "text/plain": [
       "<unittest.main.TestProgram at 0x7fefe9a9fc70>"
      ]
     },
     "execution_count": 7,
     "metadata": {},
     "output_type": "execute_result"
    }
   ],
   "source": [
    "class TestGraphic(unittest.TestCase):\n",
    "    def test_print_perimeter(self):\n",
    "        a = graphic.Graphic(1,2,3)\n",
    "        self.assertEqual(a.print_perimeter(), 1)\n",
    "    def test_print_area(self):\n",
    "        b = graphic.Graphic(4,5,6)\n",
    "        self.assertEqual(b.print_area(), 5)       \n",
    "    def test_print_perimeter_and_area(self):\n",
    "        c = graphic.Graphic(7,8,3)\n",
    "        self.assertEqual(c.print_perimeter_and_area(), (7, 8))\n",
    "unittest.main(argv=[''], verbosity=2, exit=False)"
   ]
  },
  {
   "cell_type": "code",
   "execution_count": 8,
   "id": "cb9c6f45-dc89-4018-839c-d0e36ca9d2b2",
   "metadata": {},
   "outputs": [
    {
     "name": "stderr",
     "output_type": "stream",
     "text": [
      "test_print_area (__main__.TestGraphic) ... ok\n",
      "test_print_perimeter (__main__.TestGraphic) ... ok\n",
      "test_print_perimeter_and_area (__main__.TestGraphic) ... ok\n",
      "test_cal_area (__main__.TestRectangleCal) ... ok\n",
      "test_cal_area_circumcircle (__main__.TestRectangleCal) ... ok\n",
      "test_cal_perimeter (__main__.TestRectangleCal) ... ok\n",
      "test_cal_area (__main__.TestRoundCal) ... ok\n",
      "test_cal_area_ins_square (__main__.TestRoundCal) ... ok\n",
      "test_cal_perimeter (__main__.TestRoundCal) ... "
     ]
    },
    {
     "name": "stdout",
     "output_type": "stream",
     "text": [
      "The area is: 5\n",
      "The perimeter is: 1\n",
      "The perimeter is: 7\n",
      "The area is: 8\n"
     ]
    },
    {
     "name": "stderr",
     "output_type": "stream",
     "text": [
      "ok\n",
      "\n",
      "----------------------------------------------------------------------\n",
      "Ran 9 tests in 0.007s\n",
      "\n",
      "OK\n"
     ]
    },
    {
     "data": {
      "text/plain": [
       "<unittest.main.TestProgram at 0x7fefe9aa2c40>"
      ]
     },
     "execution_count": 8,
     "metadata": {},
     "output_type": "execute_result"
    }
   ],
   "source": [
    "class TestRectangleCal(unittest.TestCase):\n",
    "    def test_cal_perimeter(self):\n",
    "        a = Rectangle(2,3)\n",
    "        self.assertEqual(a.cal_perimeter(), 10) \n",
    "    def test_cal_area(self):\n",
    "        b = Rectangle(4,5)\n",
    "        self.assertEqual(b.cal_area(), 20)           \n",
    "    def test_cal_area_circumcircle(self):\n",
    "        c = Rectangle(3,4)\n",
    "        self.assertEqual(c.cal_area_circumcircle(), math.pi*6.25)        \n",
    "    \n",
    "unittest.main(argv=[''], verbosity=2, exit=False)"
   ]
  },
  {
   "cell_type": "code",
   "execution_count": 9,
   "id": "3c59b565-03e6-42d4-9ee4-612b3e5b86df",
   "metadata": {
    "tags": []
   },
   "outputs": [
    {
     "name": "stderr",
     "output_type": "stream",
     "text": [
      "test_print_area (__main__.TestGraphic) ... ok\n",
      "test_print_perimeter (__main__.TestGraphic) ... ok\n",
      "test_print_perimeter_and_area (__main__.TestGraphic) ... ok\n",
      "test_cal_area (__main__.TestRectangleCal) ... ok\n",
      "test_cal_area_circumcircle (__main__.TestRectangleCal) ... ok\n",
      "test_cal_perimeter (__main__.TestRectangleCal) ... ok\n",
      "test_cal_area (__main__.TestRoundCal) ... ok\n",
      "test_cal_area_ins_square (__main__.TestRoundCal) ... ok\n",
      "test_cal_perimeter (__main__.TestRoundCal) ... "
     ]
    },
    {
     "name": "stdout",
     "output_type": "stream",
     "text": [
      "The area is: 5\n",
      "The perimeter is: 1\n",
      "The perimeter is: 7\n",
      "The area is: 8\n"
     ]
    },
    {
     "name": "stderr",
     "output_type": "stream",
     "text": [
      "ok\n",
      "\n",
      "----------------------------------------------------------------------\n",
      "Ran 9 tests in 0.007s\n",
      "\n",
      "OK\n"
     ]
    },
    {
     "data": {
      "text/plain": [
       "<unittest.main.TestProgram at 0x7fefc8644070>"
      ]
     },
     "execution_count": 9,
     "metadata": {},
     "output_type": "execute_result"
    }
   ],
   "source": [
    "class TestRoundCal(unittest.TestCase):\n",
    "    def test_cal_perimeter(self):\n",
    "        a = Round(3)\n",
    "        self.assertEqual(a.cal_perimeter(), 6*math.pi) \n",
    "    def test_cal_area(self):\n",
    "        b = Round(4)\n",
    "        self.assertEqual(b.cal_area(), 16*math.pi)           \n",
    "    def test_cal_area_ins_square(self):\n",
    "        c = Round(5)\n",
    "        self.assertEqual(c.cal_area_ins_square(), 50)        \n",
    "    \n",
    "unittest.main(argv=[''], verbosity=2, exit=False)"
   ]
  },
  {
   "cell_type": "code",
   "execution_count": null,
   "id": "6911bb01-301d-4cd7-9766-d800cd6d9654",
   "metadata": {},
   "outputs": [],
   "source": []
  }
 ],
 "metadata": {
  "kernelspec": {
   "display_name": "Python 3 (ipykernel)",
   "language": "python",
   "name": "python3"
  },
  "language_info": {
   "codemirror_mode": {
    "name": "ipython",
    "version": 3
   },
   "file_extension": ".py",
   "mimetype": "text/x-python",
   "name": "python",
   "nbconvert_exporter": "python",
   "pygments_lexer": "ipython3",
   "version": "3.8.12"
  }
 },
 "nbformat": 4,
 "nbformat_minor": 5
}
